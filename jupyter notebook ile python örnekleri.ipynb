{
 "cells": [
  {
   "cell_type": "markdown",
   "id": "400cf0eb",
   "metadata": {},
   "source": [
    "# Fibonacci Serisi"
   ]
  },
  {
   "cell_type": "markdown",
   "id": "d63c7311",
   "metadata": {},
   "source": [
    "--> Kullanıcıdan hangi sayıya kadar Fibonacci serisi oluşturacağını isteyelim"
   ]
  },
  {
   "cell_type": "markdown",
   "id": "98fba32a",
   "metadata": {},
   "source": [
    "-->İlk iki terimi tanımlayalım"
   ]
  },
  {
   "cell_type": "markdown",
   "id": "2066c11a",
   "metadata": {},
   "source": [
    "-->Fibonacci Serisindeki tüm terimleri hesaplayıp ekrana yazdıralım"
   ]
  },
  {
   "cell_type": "code",
   "execution_count": null,
   "id": "358f0d7e",
   "metadata": {},
   "outputs": [],
   "source": [
    "sınırDeger=int(input(\"Hangi sayıya kadar Fibonacci serisi oluşturulsun?\"))\n",
    "ilkTerim, ikinciTerim = 0,1\n",
    "while ilkTerim <= sınırDeger:\n",
    "    print(ilkTerim, end=\" \")\n",
    "    ilkTerim, ikinciTerim = ikinciTerim, ilkTerim+ikinciTerim\n"
   ]
  },
  {
   "cell_type": "markdown",
   "id": "7dc8c598",
   "metadata": {},
   "source": [
    "# Mükemmel Sayı"
   ]
  },
  {
   "cell_type": "markdown",
   "id": "cfce54d9",
   "metadata": {},
   "source": [
    "-->Kullanıcıdan bir sayı girmesini isteyelim"
   ]
  },
  {
   "cell_type": "markdown",
   "id": "0880e436",
   "metadata": {},
   "source": [
    "-->Girilen sayının pozitif tam sayı bölenlerini bulup toplayalım"
   ]
  },
  {
   "cell_type": "markdown",
   "id": "3158c955",
   "metadata": {},
   "source": [
    "-->Toplam sayının kendisine eşitse sayı mükemmeldir değilse mükemmel sayı değildir yazdıralım"
   ]
  },
  {
   "cell_type": "code",
   "execution_count": null,
   "id": "ed52d51c",
   "metadata": {},
   "outputs": [],
   "source": [
    "sayi=int(input(\"Bir sayı giriniz: \"))\n",
    "toplam=0\n",
    "for i in range(1,sayi):\n",
    "    if sayi % i == 0:\n",
    "        toplam += i\n",
    "if toplam == sayi:\n",
    "    print(sayi,\"mükemmel bir sayıdır.\")\n",
    "else:\n",
    "    print(sayi,\"mükemmel bir sayı değildir.\")\n",
    "        "
   ]
  },
  {
   "cell_type": "code",
   "execution_count": null,
   "id": "52c268a2",
   "metadata": {},
   "outputs": [],
   "source": []
  },
  {
   "cell_type": "code",
   "execution_count": null,
   "id": "28199954",
   "metadata": {},
   "outputs": [],
   "source": []
  }
 ],
 "metadata": {
  "kernelspec": {
   "display_name": "Python 3 (ipykernel)",
   "language": "python",
   "name": "python3"
  },
  "language_info": {
   "codemirror_mode": {
    "name": "ipython",
    "version": 3
   },
   "file_extension": ".py",
   "mimetype": "text/x-python",
   "name": "python",
   "nbconvert_exporter": "python",
   "pygments_lexer": "ipython3",
   "version": "3.9.13"
  }
 },
 "nbformat": 4,
 "nbformat_minor": 5
}
